{
  "nbformat": 4,
  "nbformat_minor": 0,
  "metadata": {
    "colab": {
      "provenance": [],
      "gpuType": "T4",
      "authorship_tag": "ABX9TyMmDkUZDpDYQ7lGzbeCPLp0",
      "include_colab_link": true
    },
    "kernelspec": {
      "name": "python3",
      "display_name": "Python 3"
    },
    "language_info": {
      "name": "python"
    },
    "accelerator": "GPU"
  },
  "cells": [
    {
      "cell_type": "markdown",
      "metadata": {
        "id": "view-in-github",
        "colab_type": "text"
      },
      "source": [
        "<a href=\"https://colab.research.google.com/github/lazy-wolf/TME_6016/blob/main/Assignment_2.ipynb\" target=\"_parent\"><img src=\"https://colab.research.google.com/assets/colab-badge.svg\" alt=\"Open In Colab\"/></a>"
      ]
    },
    {
      "cell_type": "code",
      "execution_count": 26,
      "metadata": {
        "id": "zJE5KybhzJRn"
      },
      "outputs": [],
      "source": [
        "# Import necessary libraries\n",
        "import torch\n",
        "import torchvision.transforms as transforms\n",
        "from torch.utils.data import DataLoader, Subset\n",
        "from torchvision.datasets import CIFAR10\n",
        "import torch.nn as nn\n",
        "import torch.optim as optim\n",
        "import torch.nn.functional as F\n",
        "import copy\n",
        "from sklearn.metrics import confusion_matrix, ConfusionMatrixDisplay, accuracy_score\n",
        "import matplotlib.pyplot as plt"
      ]
    },
    {
      "cell_type": "code",
      "source": [
        "class Model1(nn.Module):\n",
        "    def __init__(self, input_size=32*32*3, output_size=10):\n",
        "        super(Model1, self).__init__()\n",
        "        # Example architecture\n",
        "        self.fc1 = nn.Linear(input_size, 512)  # First fully connected layer\n",
        "        self.fc2 = nn.Linear(512, 256)         # Second fully connected layer\n",
        "        self.fc3 = nn.Linear(256, 128)         # Third fully connected layer\n",
        "        self.fc4 = nn.Linear(128, 64)          # Fourth fully connected layer\n",
        "        self.fc5 = nn.Linear(64, output_size)  # Final layer with output size = number of classes\n",
        "\n",
        "        # Optional: Dropout layer to reduce overfitting\n",
        "        self.dropout = nn.Dropout(p=0.5)\n",
        "\n",
        "    def forward(self, X):\n",
        "        # Flatten the input tensor\n",
        "        X = X.view(X.size(0), -1)\n",
        "\n",
        "        # Forward pass through the network\n",
        "        X = F.relu(self.fc1(X))  # Activation function after first layer\n",
        "        X = self.dropout(X)      # Apply dropout\n",
        "        X = F.relu(self.fc2(X))  # Activation function after second layer\n",
        "        X = self.dropout(X)      # Apply dropout\n",
        "        X = F.relu(self.fc3(X))  # Activation function after third layer\n",
        "        X = self.dropout(X)      # Apply dropout\n",
        "        X = F.relu(self.fc4(X))  # Activation function after fourth layer\n",
        "        X = self.dropout(X)      # Apply dropout\n",
        "        X = self.fc5(X)          # Final layer, no activation here\n",
        "\n",
        "        # Apply log_softmax on the output of the last linear layer\n",
        "        return F.log_softmax(X, dim=1)"
      ],
      "metadata": {
        "id": "6ZSyXkXQzfC8"
      },
      "execution_count": 2,
      "outputs": []
    },
    {
      "cell_type": "code",
      "source": [
        "class Model2(nn.Module):\n",
        "    def __init__(self, input_size=32*32*3, output_size=10):\n",
        "        super(Model2, self).__init__()\n",
        "        # Example architecture\n",
        "        self.fc1 = nn.Linear(input_size, 2048)    # First fully connected layer\n",
        "        self.fc2 = nn.Linear(2048, 1024)          # Second fully connected layer\n",
        "        self.fc3 = nn.Linear(1024, 512)           # Third fully connected layer\n",
        "        self.fc4 = nn.Linear(512, 256)            # Fourth fully connected layer\n",
        "        self.fc5 = nn.Linear(256, 128)            # Fifth fully connected layer\n",
        "        self.fc6 = nn.Linear(128, 64)             # Sixth fully connected layer\n",
        "        self.fc7 = nn.Linear(64, output_size)     # Final layer with output size = number of classes\n",
        "\n",
        "        # Optional: Dropout layer to reduce overfitting\n",
        "        self.dropout = nn.Dropout(p=0.5)\n",
        "\n",
        "    def forward(self, X):\n",
        "        # Flatten the input tensor\n",
        "        X = X.view(X.size(0), -1)\n",
        "\n",
        "        # Forward pass through the network\n",
        "        X = F.relu(self.fc1(X))  # Activation function after first layer\n",
        "        X = self.dropout(X)      # Apply dropout\n",
        "        X = F.relu(self.fc2(X))  # Activation function after second layer\n",
        "        X = self.dropout(X)      # Apply dropout\n",
        "        X = F.relu(self.fc3(X))  # Activation function after third layer\n",
        "        X = self.dropout(X)      # Apply dropout\n",
        "        X = F.relu(self.fc4(X))  # Activation function after fourth layer\n",
        "        X = self.dropout(X)      # Apply dropout\n",
        "        X = F.relu(self.fc5(X))  # Activation function after fifth layer\n",
        "        X = self.dropout(X)      # Apply dropout\n",
        "        X = F.relu(self.fc6(X))  # Activation function after sixth layer\n",
        "        X = self.dropout(X)      # Apply dropout\n",
        "        X = F.relu(self.fc7(X))  # Activation function after seventh layer\n",
        "        X = self.dropout(X)      # Apply dropout\n",
        "        X = F.relu(self.fc8(X))  # Activation function after eigth layer\n",
        "        X = self.dropout(X)      # Apply dropout\n",
        "        X = F.relu(self.fc9(X))  # Activation function after ninth layer\n",
        "        X = self.dropout(X)      # Apply dropout\n",
        "        X = self.fc10(X)         # Final layer, no activation here\n",
        "\n",
        "        # Apply log_softmax on the output of the last linear layer\n",
        "        return F.log_softmax(X, dim=1)"
      ],
      "metadata": {
        "id": "Xu3bEe_-zfIq"
      },
      "execution_count": 3,
      "outputs": []
    },
    {
      "cell_type": "code",
      "source": [
        "class Model3(nn.Module):\n",
        "    def __init__(self, input_size=32*32*3, output_size=10):\n",
        "        super(Model3, self).__init__()\n",
        "        # Example architecture\n",
        "        self.fc1 = nn.Linear(input_size, 2500)  # First fully connected layer\n",
        "        self.fc2 = nn.Linear(2500, 2048)         # Second fully connected layer\n",
        "        self.fc3 = nn.Linear(2048, 1024)         # Third fully connected layer\n",
        "        self.fc4 = nn.Linear(1024, 512)          # Fourth fully connected layer\n",
        "        self.fc5 = nn.Linear(512, 256)  # Final layer with output size = number of classes\n",
        "        self.fc6 = nn.Linear(256, 128)  # First fully connected layer\n",
        "        self.fc7 = nn.Linear(128, 64)         # Second fully connected layer\n",
        "        self.fc8 = nn.Linear(64, 32)         # Third fully connected layer\n",
        "        self.fc9 = nn.Linear(32, 16)          # Fourth fully connected layer\n",
        "        self.fc10 = nn.Linear(16, output_size)  # Final layer with output size = number of classes\n",
        "\n",
        "        # Optional: Dropout layer to reduce overfitting\n",
        "        self.dropout = nn.Dropout(p=0.5)\n",
        "\n",
        "    def forward(self, X):\n",
        "        # Flatten the input tensor\n",
        "        X = X.view(X.size(0), -1)\n",
        "\n",
        "        # Forward pass through the network\n",
        "        X = F.relu(self.fc1(X))  # Activation function after first layer\n",
        "        X = self.dropout(X)      # Apply dropout\n",
        "        X = F.relu(self.fc2(X))  # Activation function after second layer\n",
        "        X = self.dropout(X)      # Apply dropout\n",
        "        X = F.relu(self.fc3(X))  # Activation function after third layer\n",
        "        X = self.dropout(X)      # Apply dropout\n",
        "        X = F.relu(self.fc4(X))  # Activation function after fourth layer\n",
        "        X = self.dropout(X)      # Apply dropout\n",
        "        X = F.relu(self.fc5(X))  # Activation function after fifth layer\n",
        "        X = self.dropout(X)      # Apply dropout\n",
        "        X = F.relu(self.fc6(X))  # Activation function after sixth layer\n",
        "        X = self.dropout(X)      # Apply dropout\n",
        "        X = F.relu(self.fc7(X))  # Activation function after seventh layer\n",
        "        X = self.dropout(X)      # Apply dropout\n",
        "        X = F.relu(self.fc8(X))  # Activation function after eigth layer\n",
        "        X = self.dropout(X)      # Apply dropout\n",
        "        X = F.relu(self.fc9(X))  # Activation function after ninth layer\n",
        "        X = self.dropout(X)      # Apply dropout\n",
        "        X = self.fc10(X)         # Final layer, no activation here\n",
        "\n",
        "        # Apply log_softmax on the output of the last linear layer\n",
        "        return F.log_softmax(X, dim=1)"
      ],
      "metadata": {
        "id": "6Bnl3Uw2zfFx"
      },
      "execution_count": 4,
      "outputs": []
    },
    {
      "cell_type": "code",
      "source": [
        "# Set device\n",
        "device = torch.device(\"cuda\" if torch.cuda.is_available() else \"cpu\")"
      ],
      "metadata": {
        "id": "vwgzBSImzWcF"
      },
      "execution_count": 5,
      "outputs": []
    },
    {
      "cell_type": "code",
      "source": [
        "mean = [0.4914, 0.4822, 0.4465]\n",
        "std = [0.2470, 0.2435, 0.2616]"
      ],
      "metadata": {
        "id": "X_uriT4uzYB1"
      },
      "execution_count": 6,
      "outputs": []
    },
    {
      "cell_type": "code",
      "source": [
        "transform = transforms.Compose([\n",
        "    transforms.ToTensor(),\n",
        "    transforms.Normalize(mean, std)])"
      ],
      "metadata": {
        "id": "O5wAW56DzZT-"
      },
      "execution_count": 7,
      "outputs": []
    },
    {
      "cell_type": "code",
      "source": [
        "trainset = CIFAR10(root='./data', train=True, download=True, transform=transform)\n",
        "testset = CIFAR10(root='./data', train=False, download=True, transform=transform)"
      ],
      "metadata": {
        "colab": {
          "base_uri": "https://localhost:8080/"
        },
        "id": "pu2U9rPFzakz",
        "outputId": "941ae207-b4e6-465f-dec4-6a0d1194116c"
      },
      "execution_count": 8,
      "outputs": [
        {
          "output_type": "stream",
          "name": "stdout",
          "text": [
            "Downloading https://www.cs.toronto.edu/~kriz/cifar-10-python.tar.gz to ./data/cifar-10-python.tar.gz\n"
          ]
        },
        {
          "output_type": "stream",
          "name": "stderr",
          "text": [
            "100%|██████████| 170498071/170498071 [00:03<00:00, 48781992.51it/s]\n"
          ]
        },
        {
          "output_type": "stream",
          "name": "stdout",
          "text": [
            "Extracting ./data/cifar-10-python.tar.gz to ./data\n",
            "Files already downloaded and verified\n"
          ]
        }
      ]
    },
    {
      "cell_type": "code",
      "source": [
        "print(\"Training: \", len(trainset)) #Training:  50000\n",
        "print(\"Testing: \", len(testset)) #Testing:  10000"
      ],
      "metadata": {
        "colab": {
          "base_uri": "https://localhost:8080/"
        },
        "id": "dP0Ed6YKKqiM",
        "outputId": "d9d4cb56-db14-4fe0-e9e4-5bbed836c0ee"
      },
      "execution_count": 9,
      "outputs": [
        {
          "output_type": "stream",
          "name": "stdout",
          "text": [
            "Training:  50000\n",
            "Testing:  10000\n"
          ]
        }
      ]
    },
    {
      "cell_type": "code",
      "source": [
        "image, label = trainset[0]\n",
        "print(type(image))#<class 'torch.Tensor'>\n",
        "\n",
        "classes = trainset.classes\n",
        "print(classes) #['airplane', 'automobile', 'bird', 'cat', 'deer', 'dog', 'frog', 'horse', 'ship', 'truck']\n",
        "print(label)#6\n",
        "print(classes[label])#frog"
      ],
      "metadata": {
        "colab": {
          "base_uri": "https://localhost:8080/"
        },
        "id": "yfUaZqdbKzBP",
        "outputId": "a18baff0-90ba-44bb-a1f0-3d280f44471a"
      },
      "execution_count": 10,
      "outputs": [
        {
          "output_type": "stream",
          "name": "stdout",
          "text": [
            "<class 'torch.Tensor'>\n",
            "['airplane', 'automobile', 'bird', 'cat', 'deer', 'dog', 'frog', 'horse', 'ship', 'truck']\n",
            "6\n",
            "frog\n"
          ]
        }
      ]
    },
    {
      "cell_type": "code",
      "source": [
        "torch.manual_seed(80)\n",
        "# Creating subsets for 25K training and 5K testing samples randomly\n",
        "train_subset = Subset(trainset, torch.randperm(len(trainset))[:25000])\n",
        "test_subset = Subset(testset, torch.randperm(len(testset))[:5000])"
      ],
      "metadata": {
        "id": "2mQHalgWzcEu"
      },
      "execution_count": 11,
      "outputs": []
    },
    {
      "cell_type": "code",
      "source": [
        "model1 = Model1().to(device)\n",
        "model2 = Model2().to(device)\n",
        "model3 = Model3().to(device)"
      ],
      "metadata": {
        "id": "TLLYM4gJ6-QI"
      },
      "execution_count": 12,
      "outputs": []
    },
    {
      "cell_type": "code",
      "source": [
        "print(model1)\n",
        "print(model2)\n",
        "print(model3)"
      ],
      "metadata": {
        "colab": {
          "base_uri": "https://localhost:8080/"
        },
        "id": "EdQqIclzLG6Q",
        "outputId": "eea66b7a-abfe-4ef4-ae8e-63d70a9feee0"
      },
      "execution_count": 13,
      "outputs": [
        {
          "output_type": "stream",
          "name": "stdout",
          "text": [
            "Model1(\n",
            "  (fc1): Linear(in_features=3072, out_features=512, bias=True)\n",
            "  (fc2): Linear(in_features=512, out_features=256, bias=True)\n",
            "  (fc3): Linear(in_features=256, out_features=128, bias=True)\n",
            "  (fc4): Linear(in_features=128, out_features=64, bias=True)\n",
            "  (fc5): Linear(in_features=64, out_features=10, bias=True)\n",
            "  (dropout): Dropout(p=0.5, inplace=False)\n",
            ")\n",
            "Model2(\n",
            "  (fc1): Linear(in_features=3072, out_features=2048, bias=True)\n",
            "  (fc2): Linear(in_features=2048, out_features=1024, bias=True)\n",
            "  (fc3): Linear(in_features=1024, out_features=512, bias=True)\n",
            "  (fc4): Linear(in_features=512, out_features=256, bias=True)\n",
            "  (fc5): Linear(in_features=256, out_features=128, bias=True)\n",
            "  (fc6): Linear(in_features=128, out_features=64, bias=True)\n",
            "  (fc7): Linear(in_features=64, out_features=10, bias=True)\n",
            "  (dropout): Dropout(p=0.5, inplace=False)\n",
            ")\n",
            "Model3(\n",
            "  (fc1): Linear(in_features=3072, out_features=2500, bias=True)\n",
            "  (fc2): Linear(in_features=2500, out_features=2048, bias=True)\n",
            "  (fc3): Linear(in_features=2048, out_features=1024, bias=True)\n",
            "  (fc4): Linear(in_features=1024, out_features=512, bias=True)\n",
            "  (fc5): Linear(in_features=512, out_features=256, bias=True)\n",
            "  (fc6): Linear(in_features=256, out_features=128, bias=True)\n",
            "  (fc7): Linear(in_features=128, out_features=64, bias=True)\n",
            "  (fc8): Linear(in_features=64, out_features=32, bias=True)\n",
            "  (fc9): Linear(in_features=32, out_features=16, bias=True)\n",
            "  (fc10): Linear(in_features=16, out_features=10, bias=True)\n",
            "  (dropout): Dropout(p=0.5, inplace=False)\n",
            ")\n"
          ]
        }
      ]
    },
    {
      "cell_type": "code",
      "source": [
        "class CustomLoss(nn.Module):\n",
        "    def __init__(self, model):\n",
        "        super(CustomLoss, self).__init__()\n",
        "        self.model = model\n",
        "        self.criterion = nn.CrossEntropyLoss()\n",
        "\n",
        "    def forward(self, output, target):\n",
        "        # Compute the basic CrossEntropyLoss\n",
        "        loss = self.criterion(output, target)\n",
        "\n",
        "        # Compute the L2 regularization term\n",
        "        l2_reg = torch.tensor(0.).to(output.device)  # Ensure the tensor is on the same device as the output\n",
        "        for param in self.model.parameters():\n",
        "            l2_reg += torch.sum(torch.square(param))\n",
        "\n",
        "        # Combine the CrossEntropyLoss and the L2 regularization term\n",
        "        total_loss = loss + (0.001 * l2_reg)\n",
        "        return total_loss"
      ],
      "metadata": {
        "id": "HeROJfPJzfLm"
      },
      "execution_count": 14,
      "outputs": []
    },
    {
      "cell_type": "code",
      "source": [
        "criterion = CustomLoss(model1)\n",
        "optimizer = optim.Adam(model1.parameters(), lr=0.001)"
      ],
      "metadata": {
        "id": "2PN7aDYl9GdH"
      },
      "execution_count": 15,
      "outputs": []
    },
    {
      "cell_type": "code",
      "source": [
        "trainloader = DataLoader(train_subset, batch_size=32, shuffle=True)\n",
        "testloader = DataLoader(test_subset, batch_size=32, shuffle=True)"
      ],
      "metadata": {
        "id": "4Uj41Hpczdd0"
      },
      "execution_count": 16,
      "outputs": []
    },
    {
      "cell_type": "code",
      "source": [
        "for images, labels in trainloader:\n",
        "  break\n",
        "print(labels) # Labels of each image in a batch\n",
        "print(images.shape) # torch.Size([100, 3, 32, 32])\n",
        "print(images.view(-1, 3072).shape)  #torch.Size([100, 3072])"
      ],
      "metadata": {
        "colab": {
          "base_uri": "https://localhost:8080/"
        },
        "id": "NGfjF4BaLoO1",
        "outputId": "9f7fafeb-aa90-4fb7-cde4-9e917b5abedd"
      },
      "execution_count": 17,
      "outputs": [
        {
          "output_type": "stream",
          "name": "stdout",
          "text": [
            "tensor([3, 0, 1, 0, 6, 9, 6, 4, 0, 0, 3, 8, 8, 3, 0, 4, 3, 9, 4, 1, 5, 9, 8, 1,\n",
            "        5, 9, 7, 4, 6, 5, 8, 3])\n",
            "torch.Size([32, 3, 32, 32])\n",
            "torch.Size([32, 3072])\n"
          ]
        }
      ]
    },
    {
      "cell_type": "code",
      "source": [
        "def train_model(model, trainloader, epochs = 5):\n",
        "  best_loss = float('inf')\n",
        "  best_model_weights = copy.deepcopy(model1.state_dict())\n",
        "  for epoch in range(epochs):  # loop over the dataset multiple times\n",
        "    model1.train()\n",
        "    running_loss = 0.0\n",
        "    for i, data in enumerate(trainloader, 0):\n",
        "        # get the inputs; data is a list of [inputs, labels]\n",
        "        inputs, labels = data[0].to(device), data[1].to(device)\n",
        "\n",
        "        # zero the parameter gradients\n",
        "        optimizer.zero_grad()\n",
        "\n",
        "        # forward + backward + optimize\n",
        "        outputs = model1(inputs)\n",
        "        loss = criterion(outputs, labels)\n",
        "        loss.backward()\n",
        "        optimizer.step()\n",
        "        # print statistics\n",
        "        running_loss += loss.item()\n",
        "    #save best weights\n",
        "    epoch_loss = running_loss / len(trainloader)\n",
        "    if epoch_loss < best_loss:\n",
        "      # print(best_loss,epoch_loss)\n",
        "      best_loss = copy.copy(epoch_loss)\n",
        "      best_model_weights = copy.deepcopy(model1.state_dict())\n",
        "    print(f'Epoch {epoch+1}, Loss: {epoch_loss}')\n",
        "  print('Finished Training')\n",
        "  return best_loss, best_model_weights\n"
      ],
      "metadata": {
        "id": "HkZad4ZL6-NY"
      },
      "execution_count": 19,
      "outputs": []
    },
    {
      "cell_type": "code",
      "source": [
        "best_model1_params = train_model(model=model1, trainloader=trainloader)"
      ],
      "metadata": {
        "colab": {
          "base_uri": "https://localhost:8080/"
        },
        "id": "TZPhbKZ0MVBZ",
        "outputId": "3104d3ef-db94-4ebd-83e0-61813b827557"
      },
      "execution_count": 20,
      "outputs": [
        {
          "output_type": "stream",
          "name": "stdout",
          "text": [
            "Epoch 1, Loss: 2.396306008024289\n",
            "Epoch 2, Loss: 2.288221457272844\n",
            "Epoch 3, Loss: 2.263965819650294\n",
            "Epoch 4, Loss: 2.247602632893321\n",
            "Epoch 5, Loss: 2.2467929323006164\n",
            "Finished Training\n"
          ]
        }
      ]
    },
    {
      "cell_type": "code",
      "source": [
        "best_model1_params[0]"
      ],
      "metadata": {
        "colab": {
          "base_uri": "https://localhost:8080/"
        },
        "id": "ur8YoSnUMlwi",
        "outputId": "769d9b49-e98c-4a10-9571-55d0dc4c22d0"
      },
      "execution_count": 21,
      "outputs": [
        {
          "output_type": "execute_result",
          "data": {
            "text/plain": [
              "2.2467929323006164"
            ]
          },
          "metadata": {},
          "execution_count": 21
        }
      ]
    },
    {
      "cell_type": "code",
      "source": [
        "best_model2_params = train_model(model=model2, trainloader=trainloader)"
      ],
      "metadata": {
        "colab": {
          "base_uri": "https://localhost:8080/"
        },
        "id": "p4tariEY6-TA",
        "outputId": "99a6a221-9a11-4dae-dbf5-6ab17b052774"
      },
      "execution_count": 22,
      "outputs": [
        {
          "output_type": "stream",
          "name": "stdout",
          "text": [
            "Epoch 1, Loss: 2.244720909296704\n",
            "Epoch 2, Loss: 2.2456855043730775\n",
            "Epoch 3, Loss: 2.2416505603229298\n",
            "Epoch 4, Loss: 2.2368893728536716\n",
            "Epoch 5, Loss: 2.2473868652987665\n",
            "Finished Training\n"
          ]
        }
      ]
    },
    {
      "cell_type": "code",
      "source": [
        "best_model2_params[0]"
      ],
      "metadata": {
        "colab": {
          "base_uri": "https://localhost:8080/"
        },
        "id": "NWotWBr5Mxwo",
        "outputId": "873bc6b4-ba0d-4f93-ad7b-23bda95075a0"
      },
      "execution_count": 23,
      "outputs": [
        {
          "output_type": "execute_result",
          "data": {
            "text/plain": [
              "2.2368893728536716"
            ]
          },
          "metadata": {},
          "execution_count": 23
        }
      ]
    },
    {
      "cell_type": "code",
      "source": [
        "best_model3_params = train_model(model=model3, trainloader=trainloader)"
      ],
      "metadata": {
        "colab": {
          "base_uri": "https://localhost:8080/"
        },
        "id": "2Hjkgwd2Mxzf",
        "outputId": "352c610f-caa4-481b-c001-64f59ff0bf81"
      },
      "execution_count": 24,
      "outputs": [
        {
          "output_type": "stream",
          "name": "stdout",
          "text": [
            "Epoch 1, Loss: 2.2363486004912336\n",
            "Epoch 2, Loss: 2.243446410312067\n",
            "Epoch 3, Loss: 2.247412549260327\n",
            "Epoch 4, Loss: 2.2441288810556808\n",
            "Epoch 5, Loss: 2.2502616569209284\n",
            "Finished Training\n"
          ]
        }
      ]
    },
    {
      "cell_type": "code",
      "source": [
        "best_model3_params[0]"
      ],
      "metadata": {
        "colab": {
          "base_uri": "https://localhost:8080/"
        },
        "id": "U77wU__OMx2c",
        "outputId": "1ab6d54b-71d6-454d-b89c-ee4b1ed2edfa"
      },
      "execution_count": 25,
      "outputs": [
        {
          "output_type": "execute_result",
          "data": {
            "text/plain": [
              "2.2363486004912336"
            ]
          },
          "metadata": {},
          "execution_count": 25
        }
      ]
    },
    {
      "cell_type": "code",
      "source": [
        "def eval_model(model,testloader):\n",
        "  y_true = []\n",
        "  y_pred = []\n",
        "  model.eval()\n",
        "  with torch.no_grad():\n",
        "      for data in testloader:\n",
        "          images, labels = data[0].to(device), data[1].to(device)\n",
        "          outputs = model(images)\n",
        "          _, predicted = torch.max(outputs.data, 1)\n",
        "          y_true.extend(labels.tolist())\n",
        "          y_pred.extend(predicted.tolist())\n",
        "  print(f\"Accuracy of the {model.__class__.__name__} is : {accuracy_score(y_true, y_pred)}\")\n",
        "  return y_true, y_pred"
      ],
      "metadata": {
        "id": "HwR4OlHeD4yE"
      },
      "execution_count": 53,
      "outputs": []
    },
    {
      "cell_type": "code",
      "source": [
        "def conf_matrix_values(y_test,y_pred,class_value):\n",
        "  TN, FP, FN, TP = 0, 0, 0 , 0\n",
        "  y_test_class=[1 if i==class_value else 0 for i in y_test]\n",
        "  y_pred_class=[1 if i==class_value else 0 for i in y_pred]\n",
        "  for i in range(len(y_test)):\n",
        "    if y_test_class[i] == 0:\n",
        "      if y_pred_class[i] == 0:\n",
        "        TN+=1\n",
        "      else:\n",
        "        FP+=1\n",
        "    if y_test_class[i] == 1:\n",
        "      if y_pred_class[i] == 1:\n",
        "        TP+=1\n",
        "      else:\n",
        "        FN+=1\n",
        "  accuracy = (TP+TN)/(TP+FN+FP+TN) if (TP+FN+FP+TN) != 0  else 0\n",
        "  precision = TP/(TP+FP) if (TP + FP) != 0  else 0\n",
        "  recall = TP/(TP+FN) if (TP + FN) != 0  else 0\n",
        "  #TP, FP, TN, FN\n",
        "  return f\"TP : {TP}, FP : {FP}, TN : {TN}, FN : {FN}\\nAccuracy : {accuracy}\\nPrecision : {precision}\\nRecall : {recall}\"\n",
        ""
      ],
      "metadata": {
        "id": "Vbe932GZTrzb"
      },
      "execution_count": 54,
      "outputs": []
    },
    {
      "cell_type": "code",
      "source": [
        "y_true, model1_y_pred = eval_model(model=model1,testloader=testloader)"
      ],
      "metadata": {
        "colab": {
          "base_uri": "https://localhost:8080/"
        },
        "id": "47nYXg_gWSVe",
        "outputId": "0b804933-a77e-49f2-ac59-f13b8be9b399"
      },
      "execution_count": 55,
      "outputs": [
        {
          "output_type": "stream",
          "name": "stdout",
          "text": [
            "Accuracy of the Model1 is : 0.3184\n"
          ]
        }
      ]
    },
    {
      "cell_type": "code",
      "source": [
        "y_true[:10]"
      ],
      "metadata": {
        "colab": {
          "base_uri": "https://localhost:8080/"
        },
        "id": "kLJ_iHd1S8K9",
        "outputId": "ea099c63-0de4-4945-ae58-9001cad1ea0f"
      },
      "execution_count": 46,
      "outputs": [
        {
          "output_type": "execute_result",
          "data": {
            "text/plain": [
              "[0, 1, 8, 8, 4, 8, 7, 7, 9, 2]"
            ]
          },
          "metadata": {},
          "execution_count": 46
        }
      ]
    },
    {
      "cell_type": "code",
      "source": [
        "model1_y_pred[:10]"
      ],
      "metadata": {
        "colab": {
          "base_uri": "https://localhost:8080/"
        },
        "id": "gcXuT4ejTLbS",
        "outputId": "5e275d96-7919-42f3-af0c-45757473f0dd"
      },
      "execution_count": 56,
      "outputs": [
        {
          "output_type": "execute_result",
          "data": {
            "text/plain": [
              "[8, 1, 6, 6, 8, 6, 6, 1, 1, 1]"
            ]
          },
          "metadata": {},
          "execution_count": 56
        }
      ]
    },
    {
      "cell_type": "code",
      "source": [
        "for i in range(10):\n",
        "  print(f\"Class {i+1}: Class-{i+1} Label\")\n",
        "  print(conf_matrix_values(y_true,model1_y_pred,i))\n",
        "  print()"
      ],
      "metadata": {
        "colab": {
          "base_uri": "https://localhost:8080/"
        },
        "id": "OyZ98PKoTr2g",
        "outputId": "934da51b-58ee-478f-e3a1-4911184b40cf"
      },
      "execution_count": 57,
      "outputs": [
        {
          "output_type": "stream",
          "name": "stdout",
          "text": [
            "Class 1: Class-1 Label\n",
            "TP : 140, FP : 140, TN : 4324, FN : 396\n",
            "Accuracy : 0.8928\n",
            "Precision : 0.5\n",
            "Recall : 0.26119402985074625\n",
            "\n",
            "Class 2: Class-2 Label\n",
            "TP : 320, FP : 756, TN : 3768, FN : 156\n",
            "Accuracy : 0.8176\n",
            "Precision : 0.29739776951672864\n",
            "Recall : 0.6722689075630253\n",
            "\n",
            "Class 3: Class-3 Label\n",
            "TP : 3, FP : 4, TN : 4505, FN : 488\n",
            "Accuracy : 0.9016\n",
            "Precision : 0.42857142857142855\n",
            "Recall : 0.006109979633401222\n",
            "\n",
            "Class 4: Class-4 Label\n",
            "TP : 0, FP : 0, TN : 4517, FN : 483\n",
            "Accuracy : 0.9034\n",
            "Precision : 0\n",
            "Recall : 0.0\n",
            "\n",
            "Class 5: Class-5 Label\n",
            "TP : 198, FP : 472, TN : 4026, FN : 304\n",
            "Accuracy : 0.8448\n",
            "Precision : 0.2955223880597015\n",
            "Recall : 0.3944223107569721\n",
            "\n",
            "Class 6: Class-6 Label\n",
            "TP : 178, FP : 364, TN : 4138, FN : 320\n",
            "Accuracy : 0.8632\n",
            "Precision : 0.3284132841328413\n",
            "Recall : 0.357429718875502\n",
            "\n",
            "Class 7: Class-7 Label\n",
            "TP : 243, FP : 696, TN : 3804, FN : 257\n",
            "Accuracy : 0.8094\n",
            "Precision : 0.25878594249201275\n",
            "Recall : 0.486\n",
            "\n",
            "Class 8: Class-8 Label\n",
            "TP : 109, FP : 82, TN : 4410, FN : 399\n",
            "Accuracy : 0.9038\n",
            "Precision : 0.5706806282722513\n",
            "Recall : 0.21456692913385828\n",
            "\n",
            "Class 9: Class-9 Label\n",
            "TP : 325, FP : 672, TN : 3820, FN : 183\n",
            "Accuracy : 0.829\n",
            "Precision : 0.3259779338014042\n",
            "Recall : 0.639763779527559\n",
            "\n",
            "Class 10: Class-10 Label\n",
            "TP : 76, FP : 222, TN : 4280, FN : 422\n",
            "Accuracy : 0.8712\n",
            "Precision : 0.2550335570469799\n",
            "Recall : 0.15261044176706828\n",
            "\n"
          ]
        }
      ]
    },
    {
      "cell_type": "code",
      "source": [
        "cm_display = ConfusionMatrixDisplay(confusion_matrix = confusion_matrix(y_true,model1_y_pred), display_labels = trainset.classes)\n",
        "fig, ax = plt.subplots(figsize=(10,10))\n",
        "cm_display.plot(ax=ax)\n",
        "plt.show()"
      ],
      "metadata": {
        "colab": {
          "base_uri": "https://localhost:8080/",
          "height": 815
        },
        "id": "vq5ps_ILTr5g",
        "outputId": "52018ab6-dd88-4d92-8b47-f00e597bb77a"
      },
      "execution_count": 58,
      "outputs": [
        {
          "output_type": "display_data",
          "data": {
            "text/plain": [
              "<Figure size 1000x1000 with 2 Axes>"
            ],
            "image/png": "[encoded data removed]"
          },
          "metadata": {}
        }
      ]
    },
    {
      "cell_type": "code",
      "source": [],
      "metadata": {
        "id": "9w_jAujnTr8Z"
      },
      "execution_count": null,
      "outputs": []
    },
    {
      "cell_type": "code",
      "source": [],
      "metadata": {
        "id": "1KvR4qTHTr_X"
      },
      "execution_count": null,
      "outputs": []
    },
    {
      "cell_type": "code",
      "source": [],
      "metadata": {
        "id": "HvSiW5TgTsCu"
      },
      "execution_count": null,
      "outputs": []
    },
    {
      "cell_type": "code",
      "source": [],
      "metadata": {
        "id": "w20wOJmxdHb8"
      },
      "execution_count": null,
      "outputs": []
    },
    {
      "cell_type": "code",
      "source": [],
      "metadata": {
        "id": "nU4i04chdHfH"
      },
      "execution_count": null,
      "outputs": []
    },
    {
      "cell_type": "code",
      "source": [],
      "metadata": {
        "id": "B6-3od9fD43x"
      },
      "execution_count": null,
      "outputs": []
    },
    {
      "cell_type": "code",
      "source": [],
      "metadata": {
        "id": "qgD3NZBZD46i"
      },
      "execution_count": null,
      "outputs": []
    },
    {
      "cell_type": "code",
      "source": [],
      "metadata": {
        "id": "TVJgOPBRD49B"
      },
      "execution_count": null,
      "outputs": []
    },
    {
      "cell_type": "code",
      "source": [],
      "metadata": {
        "id": "xV-9C9j8zfOY"
      },
      "execution_count": null,
      "outputs": []
    },
    {
      "cell_type": "code",
      "source": [],
      "metadata": {
        "id": "zFkTECc3zfRG"
      },
      "execution_count": null,
      "outputs": []
    },
    {
      "cell_type": "code",
      "source": [],
      "metadata": {
        "id": "X2vcM84_zfUQ"
      },
      "execution_count": null,
      "outputs": []
    }
  ]
}