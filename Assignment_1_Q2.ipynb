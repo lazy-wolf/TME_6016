{
  "nbformat": 4,
  "nbformat_minor": 0,
  "metadata": {
    "colab": {
      "provenance": [],
      "authorship_tag": "ABX9TyOUIx8ty/F/ONARZDYeG7X5",
      "include_colab_link": true
    },
    "kernelspec": {
      "name": "python3",
      "display_name": "Python 3"
    },
    "language_info": {
      "name": "python"
    }
  },
  "cells": [
    {
      "cell_type": "markdown",
      "metadata": {
        "id": "view-in-github",
        "colab_type": "text"
      },
      "source": [
        "<a href=\"https://colab.research.google.com/github/lazy-wolf/TME_6016/blob/main/Assignment_1_Q2.ipynb\" target=\"_parent\"><img src=\"https://colab.research.google.com/assets/colab-badge.svg\" alt=\"Open In Colab\"/></a>"
      ]
    },
    {
      "cell_type": "markdown",
      "source": [
        "**Importing Libraries**"
      ],
      "metadata": {
        "id": "kkFOAvua0FbN"
      }
    },
    {
      "cell_type": "code",
      "execution_count": 1,
      "metadata": {
        "id": "KZ5pNijP8GHr"
      },
      "outputs": [],
      "source": [
        "import torch\n",
        "from torchvision.datasets import CIFAR100\n",
        "import time\n",
        "import itertools\n",
        "from sklearn.metrics import accuracy_score"
      ]
    },
    {
      "cell_type": "markdown",
      "source": [
        "**Importing Dataset**"
      ],
      "metadata": {
        "id": "ARlCGYCL0P43"
      }
    },
    {
      "cell_type": "code",
      "source": [
        "dset_train = CIFAR100(root='.', download=True, train=True)\n",
        "dset_test = CIFAR100(root='.', train=False)"
      ],
      "metadata": {
        "colab": {
          "base_uri": "https://localhost:8080/"
        },
        "id": "-IU-Podc8MQ6",
        "outputId": "127a6e85-1b5d-444a-b1a0-84e60985ce98"
      },
      "execution_count": 2,
      "outputs": [
        {
          "output_type": "stream",
          "name": "stdout",
          "text": [
            "Downloading https://www.cs.toronto.edu/~kriz/cifar-100-python.tar.gz to ./cifar-100-python.tar.gz\n"
          ]
        },
        {
          "output_type": "stream",
          "name": "stderr",
          "text": [
            "100%|██████████| 169001437/169001437 [00:02<00:00, 83814336.03it/s] \n"
          ]
        },
        {
          "output_type": "stream",
          "name": "stdout",
          "text": [
            "Extracting ./cifar-100-python.tar.gz to .\n"
          ]
        }
      ]
    },
    {
      "cell_type": "markdown",
      "source": [
        "**Data Preprocessing**"
      ],
      "metadata": {
        "id": "2CRROwfs0YPL"
      }
    },
    {
      "cell_type": "code",
      "source": [
        "x_train = torch.tensor(dset_train.data, dtype=torch.float32).div_(255)\n",
        "y_train = torch.tensor(dset_train.targets, dtype=torch.int64)"
      ],
      "metadata": {
        "id": "6IzF1DIZ8MT2"
      },
      "execution_count": 3,
      "outputs": []
    },
    {
      "cell_type": "code",
      "source": [
        "x_train = torch.flatten(x_train,start_dim=1) #Flattening the 3 dimension image into a single dimension for easier calculation"
      ],
      "metadata": {
        "id": "j4i2PLedG8s-"
      },
      "execution_count": 4,
      "outputs": []
    },
    {
      "cell_type": "code",
      "source": [
        "x_train.shape"
      ],
      "metadata": {
        "colab": {
          "base_uri": "https://localhost:8080/"
        },
        "id": "QVI1kNtd0kr_",
        "outputId": "39a231c3-679b-4276-a724-6714bda90983"
      },
      "execution_count": 5,
      "outputs": [
        {
          "output_type": "execute_result",
          "data": {
            "text/plain": [
              "torch.Size([50000, 3072])"
            ]
          },
          "metadata": {},
          "execution_count": 5
        }
      ]
    },
    {
      "cell_type": "code",
      "source": [
        "x_test = torch.tensor(dset_test.data, dtype=torch.float32).div_(255)\n",
        "y_test = torch.tensor(dset_test.targets, dtype=torch.int64)"
      ],
      "metadata": {
        "id": "vqic6otL8MWr"
      },
      "execution_count": 6,
      "outputs": []
    },
    {
      "cell_type": "code",
      "source": [
        "x_test = torch.flatten(x_test,start_dim=1) #Flattening the 3 dimension image into a single dimension for easier calculation"
      ],
      "metadata": {
        "id": "3pJ1ppwzG-yL"
      },
      "execution_count": 7,
      "outputs": []
    },
    {
      "cell_type": "code",
      "source": [
        "x_test.shape"
      ],
      "metadata": {
        "colab": {
          "base_uri": "https://localhost:8080/"
        },
        "id": "PgoRsRBW0qtO",
        "outputId": "cb868989-5674-4829-9906-fb6d09f1cbc9"
      },
      "execution_count": 8,
      "outputs": [
        {
          "output_type": "execute_result",
          "data": {
            "text/plain": [
              "torch.Size([10000, 3072])"
            ]
          },
          "metadata": {},
          "execution_count": 8
        }
      ]
    },
    {
      "cell_type": "markdown",
      "source": [
        "**Total Training and Testing Samples**"
      ],
      "metadata": {
        "id": "G0Wpabfg008D"
      }
    },
    {
      "cell_type": "code",
      "source": [
        "print(f\"Total Training Samples: {x_train.shape[0]} \\nTotal Test Samples: {x_test.shape[0]}\")"
      ],
      "metadata": {
        "colab": {
          "base_uri": "https://localhost:8080/"
        },
        "id": "lnc2r1TdmCXg",
        "outputId": "dfb421da-d330-42ae-81a5-d18f03e52856"
      },
      "execution_count": 9,
      "outputs": [
        {
          "output_type": "stream",
          "name": "stdout",
          "text": [
            "Total Training Samples: 50000 \n",
            "Total Test Samples: 10000\n"
          ]
        }
      ]
    },
    {
      "cell_type": "markdown",
      "source": [
        "**Loss Function**"
      ],
      "metadata": {
        "id": "09XlTyk30_Sy"
      }
    },
    {
      "cell_type": "markdown",
      "source": [
        "**SVM Loss with L2 regularization**"
      ],
      "metadata": {
        "id": "3c6aYbMn1CBm"
      }
    },
    {
      "cell_type": "code",
      "source": [
        "def svm_loss_function(W, X, y, reg):\n",
        "  loss = 0.0\n",
        "  dW = torch.zeros_like(W) # initialize the gradient as zero\n",
        "  num_classes = W.shape[1]\n",
        "  num_train = X.shape[0]\n",
        "  loss = 0.0\n",
        "  #SVM Loss Function\n",
        "  scores = X.mm(W)\n",
        "  correct_class_score = scores[range(num_train),y]\n",
        "  margin = scores -  correct_class_score.view(-1,1) + 1\n",
        "  margin[range(num_train),y] = 0\n",
        "  mask = (margin > 0)\n",
        "  loss = margin[mask].sum()\n",
        "  mask_correct_y = torch.zeros_like(scores,dtype=torch.bool)\n",
        "  mask_correct_y[range(num_train),y] = True\n",
        "  margin[margin> 0] = 1\n",
        "  margin[margin< 0] = 0\n",
        "  margin[mask_correct_y] = torch.sum(margin, axis = 1)*-1\n",
        "  dW = margin.T.mm(X).T\n",
        "  loss /= num_train\n",
        "  dW /= num_train\n",
        "  loss += reg * torch.sum(W * W) # SVM Loss Function with L2 Regularization\n",
        "  dW+=2*reg*W\n",
        "  return loss, dW\n"
      ],
      "metadata": {
        "id": "hB7ZxQi_8MtA"
      },
      "execution_count": 10,
      "outputs": []
    },
    {
      "cell_type": "markdown",
      "source": [
        "**Batch Size Function**"
      ],
      "metadata": {
        "id": "HbzQEAe917ng"
      }
    },
    {
      "cell_type": "code",
      "source": [
        "def batch_size_func(X, y, num_train, batch_size):\n",
        "  X_batch = None\n",
        "  y_batch = None\n",
        "\n",
        "  indices = torch.randint(num_train, (batch_size,))\n",
        "  y_batch = y[indices]\n",
        "  X_batch = X[indices]\n",
        "\n",
        "  return X_batch, y_batch"
      ],
      "metadata": {
        "id": "iwe0oXlu8Mv0"
      },
      "execution_count": 11,
      "outputs": []
    },
    {
      "cell_type": "markdown",
      "source": [
        "**Linear Classifier Training Function with Stochastic Gradient Descent (SGD) Optimization Approach**"
      ],
      "metadata": {
        "id": "lw6Qp8FT2kfy"
      }
    },
    {
      "cell_type": "code",
      "source": [
        "def linear_classifier_training_func(X, y, learning_rate=0.01,\n",
        "                            reg=0.01, num_iters=1000, batch_size=64):\n",
        "  num_train, dim = X.shape\n",
        "  num_classes = torch.max(y) + 1\n",
        "  W = 0.000001 * torch.randn(dim, num_classes, device=X.device, dtype=X.dtype)\n",
        "  loss_history = []\n",
        "  best_loss=float('inf')\n",
        "  for it in range(num_iters):\n",
        "    X_batch, y_batch = batch_size_func(X, y, num_train, batch_size)\n",
        "\n",
        "    loss, grad = svm_loss_function(W, X_batch, y_batch, reg)\n",
        "    loss_history.append(loss.item())\n",
        "    if loss.item() < best_loss: # Computing and Saving the Best Weights Matrix\n",
        "      best_W = W\n",
        "      best_loss = loss.item()\n",
        "    W -= learning_rate * grad    # Stochastic Gradient Descent (SGD) Optimization Approach\n",
        "  return best_W, W, loss_history, best_loss"
      ],
      "metadata": {
        "id": "N_mYaS8--dRC"
      },
      "execution_count": 12,
      "outputs": []
    },
    {
      "cell_type": "markdown",
      "source": [
        "**Linear Classifier Prediction Function**"
      ],
      "metadata": {
        "id": "JrnposDb3pk1"
      }
    },
    {
      "cell_type": "code",
      "source": [
        "def linear_classifier_predict_func(W, X):\n",
        "  y_pred = torch.zeros(X.shape[0], dtype=torch.int64)\n",
        "  _, y_pred = X.mm(W).max(dim = 1)\n",
        "  return y_pred\n"
      ],
      "metadata": {
        "id": "red0_s2sG2LA"
      },
      "execution_count": 13,
      "outputs": []
    },
    {
      "cell_type": "markdown",
      "source": [
        "**Confusion Matrix Function**"
      ],
      "metadata": {
        "id": "y7DswZDb367-"
      }
    },
    {
      "cell_type": "code",
      "source": [
        "def conf_matrix_values(y_test,y_pred,class_value):\n",
        "  TN, FP, FN, TP = 0, 0, 0 , 0\n",
        "  y_test_class=[1 if i==class_value else 0 for i in y_test]\n",
        "  y_pred_class=[1 if i==class_value else 0 for i in y_pred]\n",
        "  for i in range(len(y_test)):\n",
        "    if y_test_class[i] == 0:\n",
        "      if y_pred_class[i] == 0:\n",
        "        TN+=1\n",
        "      else:\n",
        "        FP+=1\n",
        "    if y_test_class[i] == 1:\n",
        "      if y_pred_class[i] == 1:\n",
        "        TP+=1\n",
        "      else:\n",
        "        FN+=1\n",
        "  accuracy = (TP+TN)/(TP+FN+FP+TN)\n",
        "  precision = TP/(TP+FP)\n",
        "  recall = TP/(TP+FN)\n",
        "  #TP, FP, TN, FN\n",
        "  return f\"TP : {TP}, FP : {FP}, TN : {TN}, FN : {FN}\\nAccuracy : {accuracy}\\nPrecision : {precision}\\nRecall : {recall}\""
      ],
      "metadata": {
        "id": "rUqiH82IxhKK"
      },
      "execution_count": 14,
      "outputs": []
    },
    {
      "cell_type": "markdown",
      "source": [
        "**Hyperparameter Tuning**"
      ],
      "metadata": {
        "id": "ZKhxb-X54Ax4"
      }
    },
    {
      "cell_type": "markdown",
      "source": [
        "**Selecting the Best Values for Learning Rates and Regularization Strengths**"
      ],
      "metadata": {
        "id": "Jn4Y4fb_4J8-"
      }
    },
    {
      "cell_type": "code",
      "source": [
        "learning_rates = [0.000001,0.0001, 0.001, 0.005,0.01,0.05]\n",
        "regularization_strengths = [0.001,0.5,1,3]"
      ],
      "metadata": {
        "id": "bNwBcs1Q4Hqr"
      },
      "execution_count": 15,
      "outputs": []
    },
    {
      "cell_type": "code",
      "source": [
        "possible_combinations = list(itertools.product(learning_rates,regularization_strengths))\n",
        "best_acc = 0\n",
        "for i in range(len(possible_combinations)):\n",
        "  l_r,r_s = possible_combinations[i]\n",
        "  best_W, W, loss_history, best_loss = linear_classifier_training_func(X=x_train, y=y_train, learning_rate=l_r,reg=r_s, num_iters=10000, batch_size=64)\n",
        "  y_pred = linear_classifier_predict_func(best_W,x_test)\n",
        "  acc_score = accuracy_score(y_test,y_pred)\n",
        "  if acc_score > best_acc:\n",
        "    best_acc = acc_score\n",
        "    best_comb = (l_r,r_s)"
      ],
      "metadata": {
        "id": "Jy1t3KN-otJ-"
      },
      "execution_count": 16,
      "outputs": []
    },
    {
      "cell_type": "markdown",
      "source": [
        "**Best Values for Learning Rates and Regularization Strengths after Hyperparameter Tuning**"
      ],
      "metadata": {
        "id": "b2miHN0-5H2U"
      }
    },
    {
      "cell_type": "code",
      "source": [
        "print(f\"Best Combination:\\nLearning Rate : {best_comb[0]}\\nRegularization Strength : {best_comb[1]}\")"
      ],
      "metadata": {
        "colab": {
          "base_uri": "https://localhost:8080/"
        },
        "id": "0F_MuQu74b83",
        "outputId": "dd35d2df-609f-4fb0-bd62-f40d98a2b9db"
      },
      "execution_count": 17,
      "outputs": [
        {
          "output_type": "stream",
          "name": "stdout",
          "text": [
            "Best Combination:\n",
            "Learning Rate : 0.0001\n",
            "Regularization Strength : 0.001\n"
          ]
        }
      ]
    },
    {
      "cell_type": "code",
      "source": [
        "l_r,r_s = best_comb"
      ],
      "metadata": {
        "id": "hhtQEsYkotbZ"
      },
      "execution_count": 18,
      "outputs": []
    },
    {
      "cell_type": "markdown",
      "source": [
        "**Linear Classifier Training**"
      ],
      "metadata": {
        "id": "lNYNjZn95Th6"
      }
    },
    {
      "cell_type": "code",
      "source": [
        "start = time.time()\n",
        "best_W, W, loss_history, best_loss = linear_classifier_training_func(X = x_train, y = y_train, learning_rate=l_r,\n",
        "                         reg=r_s, num_iters=10000, batch_size=64)\n",
        "training_time = time.time()-start\n",
        "print(f\"Training Time Taken : {training_time}\")"
      ],
      "metadata": {
        "colab": {
          "base_uri": "https://localhost:8080/"
        },
        "id": "xA6mP-TW-dUH",
        "outputId": "09234fb9-dd9a-4aef-8a98-57a93f400a4a"
      },
      "execution_count": 19,
      "outputs": [
        {
          "output_type": "stream",
          "name": "stdout",
          "text": [
            "Training Time Taken : 48.804234981536865\n"
          ]
        }
      ]
    },
    {
      "cell_type": "markdown",
      "source": [
        "**Linear Classifier Prediction on Testing Dataset**"
      ],
      "metadata": {
        "id": "-hjMIhn65xBp"
      }
    },
    {
      "cell_type": "code",
      "source": [
        "start = time.time()\n",
        "y_pred = linear_classifier_predict_func(best_W,x_test)\n",
        "test_time = time.time() - start\n",
        "print(f\"Testing Time Taken : {test_time}\")"
      ],
      "metadata": {
        "colab": {
          "base_uri": "https://localhost:8080/"
        },
        "id": "6bMd7eLhIFog",
        "outputId": "1e701fbe-04df-4e72-d61c-204ac2dbe729"
      },
      "execution_count": 20,
      "outputs": [
        {
          "output_type": "stream",
          "name": "stdout",
          "text": [
            "Testing Time Taken : 0.20165014266967773\n"
          ]
        }
      ]
    },
    {
      "cell_type": "markdown",
      "source": [
        "**Time Taken for Training and Test - Linear Classifier**"
      ],
      "metadata": {
        "id": "hpjpH5JK57h0"
      }
    },
    {
      "cell_type": "code",
      "source": [
        "print(f\"Training Time Taken - Linear Classifier : {training_time} secs\")\n",
        "print(f\"Testing Time Taken - Linear Classifier : {test_time} secs\")"
      ],
      "metadata": {
        "colab": {
          "base_uri": "https://localhost:8080/"
        },
        "id": "IL-6Qj196THA",
        "outputId": "1c7cb4a0-10e3-45fb-957b-ebc7bcfdfa7e"
      },
      "execution_count": 21,
      "outputs": [
        {
          "output_type": "stream",
          "name": "stdout",
          "text": [
            "Training Time Taken - Linear Classifier : 48.804234981536865 secs\n",
            "Testing Time Taken - Linear Classifier : 0.20165014266967773 secs\n"
          ]
        }
      ]
    },
    {
      "cell_type": "markdown",
      "source": [
        "**Best Weights (obtained after training)**"
      ],
      "metadata": {
        "id": "36XhfCLN6v4v"
      }
    },
    {
      "cell_type": "code",
      "source": [
        "print(\"Best Weights (obtained after training):\")\n",
        "best_W"
      ],
      "metadata": {
        "colab": {
          "base_uri": "https://localhost:8080/"
        },
        "id": "wtOIX7UIxT88",
        "outputId": "d5edf8b6-cbef-4e38-eac9-deeb273ce16b"
      },
      "execution_count": 22,
      "outputs": [
        {
          "output_type": "stream",
          "name": "stdout",
          "text": [
            "Best Weights (obtained after training):\n"
          ]
        },
        {
          "output_type": "execute_result",
          "data": {
            "text/plain": [
              "tensor([[ 0.0008, -0.0017, -0.0079,  ..., -0.0026,  0.0188, -0.0002],\n",
              "        [ 0.0049,  0.0094, -0.0157,  ..., -0.0105,  0.0094, -0.0087],\n",
              "        [ 0.0081,  0.0023, -0.0133,  ..., -0.0103,  0.0098, -0.0126],\n",
              "        ...,\n",
              "        [-0.0026,  0.0045,  0.0022,  ..., -0.0007, -0.0002, -0.0111],\n",
              "        [ 0.0026,  0.0079, -0.0084,  ..., -0.0008, -0.0098, -0.0091],\n",
              "        [ 0.0141,  0.0057,  0.0026,  ...,  0.0032, -0.0033, -0.0009]])"
            ]
          },
          "metadata": {},
          "execution_count": 22
        }
      ]
    },
    {
      "cell_type": "markdown",
      "source": [
        "**Loss value on Best Weights**"
      ],
      "metadata": {
        "id": "dZxOW_7N64cd"
      }
    },
    {
      "cell_type": "code",
      "source": [
        "print(\"Loss value on Best Weights:\", best_loss)"
      ],
      "metadata": {
        "colab": {
          "base_uri": "https://localhost:8080/"
        },
        "id": "l-JCd3BMxXfG",
        "outputId": "b6a1cfe6-87da-4c57-fc32-5c5778ebed53"
      },
      "execution_count": 23,
      "outputs": [
        {
          "output_type": "stream",
          "name": "stdout",
          "text": [
            "Loss value on Best Weights: 26.01335906982422\n"
          ]
        }
      ]
    },
    {
      "cell_type": "markdown",
      "source": [
        "**Confusion Matrix Individual Results for 20 Labels - Linear Classifier**"
      ],
      "metadata": {
        "id": "jW8iGtNw7BTp"
      }
    },
    {
      "cell_type": "code",
      "source": [
        "for i in range(20):\n",
        "  print(f\"Class {i+1}: Class-{i+1} Label\")\n",
        "  print(conf_matrix_values(y_test,y_pred,i))\n",
        "  print()"
      ],
      "metadata": {
        "colab": {
          "base_uri": "https://localhost:8080/"
        },
        "id": "A6QMoTzYIFuG",
        "outputId": "1ac671cb-c57f-4979-d1fd-0863cda10419"
      },
      "execution_count": 24,
      "outputs": [
        {
          "output_type": "stream",
          "name": "stdout",
          "text": [
            "Class 1: Class-1 Label\n",
            "TP : 26, FP : 66, TN : 9834, FN : 74\n",
            "Accuracy : 0.986\n",
            "Precision : 0.2826086956521739\n",
            "Recall : 0.26\n",
            "\n",
            "Class 2: Class-2 Label\n",
            "TP : 12, FP : 89, TN : 9811, FN : 88\n",
            "Accuracy : 0.9823\n",
            "Precision : 0.1188118811881188\n",
            "Recall : 0.12\n",
            "\n",
            "Class 3: Class-3 Label\n",
            "TP : 10, FP : 131, TN : 9769, FN : 90\n",
            "Accuracy : 0.9779\n",
            "Precision : 0.07092198581560284\n",
            "Recall : 0.1\n",
            "\n",
            "Class 4: Class-4 Label\n",
            "TP : 11, FP : 251, TN : 9649, FN : 89\n",
            "Accuracy : 0.966\n",
            "Precision : 0.04198473282442748\n",
            "Recall : 0.11\n",
            "\n",
            "Class 5: Class-5 Label\n",
            "TP : 0, FP : 2, TN : 9898, FN : 100\n",
            "Accuracy : 0.9898\n",
            "Precision : 0.0\n",
            "Recall : 0.0\n",
            "\n",
            "Class 6: Class-6 Label\n",
            "TP : 15, FP : 184, TN : 9716, FN : 85\n",
            "Accuracy : 0.9731\n",
            "Precision : 0.07537688442211055\n",
            "Recall : 0.15\n",
            "\n",
            "Class 7: Class-7 Label\n",
            "TP : 18, FP : 107, TN : 9793, FN : 82\n",
            "Accuracy : 0.9811\n",
            "Precision : 0.144\n",
            "Recall : 0.18\n",
            "\n",
            "Class 8: Class-8 Label\n",
            "TP : 12, FP : 96, TN : 9804, FN : 88\n",
            "Accuracy : 0.9816\n",
            "Precision : 0.1111111111111111\n",
            "Recall : 0.12\n",
            "\n",
            "Class 9: Class-9 Label\n",
            "TP : 8, FP : 10, TN : 9890, FN : 92\n",
            "Accuracy : 0.9898\n",
            "Precision : 0.4444444444444444\n",
            "Recall : 0.08\n",
            "\n",
            "Class 10: Class-10 Label\n",
            "TP : 21, FP : 36, TN : 9864, FN : 79\n",
            "Accuracy : 0.9885\n",
            "Precision : 0.3684210526315789\n",
            "Recall : 0.21\n",
            "\n",
            "Class 11: Class-11 Label\n",
            "TP : 1, FP : 9, TN : 9891, FN : 99\n",
            "Accuracy : 0.9892\n",
            "Precision : 0.1\n",
            "Recall : 0.01\n",
            "\n",
            "Class 12: Class-12 Label\n",
            "TP : 5, FP : 20, TN : 9880, FN : 95\n",
            "Accuracy : 0.9885\n",
            "Precision : 0.2\n",
            "Recall : 0.05\n",
            "\n",
            "Class 13: Class-13 Label\n",
            "TP : 19, FP : 141, TN : 9759, FN : 81\n",
            "Accuracy : 0.9778\n",
            "Precision : 0.11875\n",
            "Recall : 0.19\n",
            "\n",
            "Class 14: Class-14 Label\n",
            "TP : 9, FP : 39, TN : 9861, FN : 91\n",
            "Accuracy : 0.987\n",
            "Precision : 0.1875\n",
            "Recall : 0.09\n",
            "\n",
            "Class 15: Class-15 Label\n",
            "TP : 5, FP : 52, TN : 9848, FN : 95\n",
            "Accuracy : 0.9853\n",
            "Precision : 0.08771929824561403\n",
            "Recall : 0.05\n",
            "\n",
            "Class 16: Class-16 Label\n",
            "TP : 6, FP : 50, TN : 9850, FN : 94\n",
            "Accuracy : 0.9856\n",
            "Precision : 0.10714285714285714\n",
            "Recall : 0.06\n",
            "\n",
            "Class 17: Class-17 Label\n",
            "TP : 1, FP : 6, TN : 9894, FN : 99\n",
            "Accuracy : 0.9895\n",
            "Precision : 0.14285714285714285\n",
            "Recall : 0.01\n",
            "\n",
            "Class 18: Class-18 Label\n",
            "TP : 25, FP : 152, TN : 9748, FN : 75\n",
            "Accuracy : 0.9773\n",
            "Precision : 0.14124293785310735\n",
            "Recall : 0.25\n",
            "\n",
            "Class 19: Class-19 Label\n",
            "TP : 20, FP : 71, TN : 9829, FN : 80\n",
            "Accuracy : 0.9849\n",
            "Precision : 0.21978021978021978\n",
            "Recall : 0.2\n",
            "\n",
            "Class 20: Class-20 Label\n",
            "TP : 5, FP : 6, TN : 9894, FN : 95\n",
            "Accuracy : 0.9899\n",
            "Precision : 0.45454545454545453\n",
            "Recall : 0.05\n",
            "\n"
          ]
        }
      ]
    },
    {
      "cell_type": "code",
      "source": [],
      "metadata": {
        "id": "kjolpOa8S3ZF"
      },
      "execution_count": 24,
      "outputs": []
    },
    {
      "cell_type": "code",
      "source": [],
      "metadata": {
        "id": "0jB-t5YMS3cR"
      },
      "execution_count": 24,
      "outputs": []
    },
    {
      "cell_type": "code",
      "source": [],
      "metadata": {
        "id": "X3OQZ3RDS3fY"
      },
      "execution_count": 24,
      "outputs": []
    }
  ]
}