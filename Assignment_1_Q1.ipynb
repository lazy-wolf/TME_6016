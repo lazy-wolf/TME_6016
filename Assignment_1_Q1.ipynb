{
  "nbformat": 4,
  "nbformat_minor": 0,
  "metadata": {
    "colab": {
      "provenance": [],
      "gpuType": "T4"
    },
    "kernelspec": {
      "name": "python3",
      "display_name": "Python 3"
    },
    "language_info": {
      "name": "python"
    }
  },
  "cells": [
    {
      "cell_type": "markdown",
      "source": [
        "**Importing Libraries**"
      ],
      "metadata": {
        "id": "qU-4BFEVwcNR"
      }
    },
    {
      "cell_type": "code",
      "execution_count": 1,
      "metadata": {
        "id": "OsrNv5u5QXP5"
      },
      "outputs": [],
      "source": [
        "import torch\n",
        "from torchvision.datasets import CIFAR10\n",
        "import time"
      ]
    },
    {
      "cell_type": "markdown",
      "source": [
        "**Importing Dataset**"
      ],
      "metadata": {
        "id": "c3Qn5BqbwhH1"
      }
    },
    {
      "cell_type": "code",
      "source": [
        "dset_train = CIFAR10(root='.', download=True, train=True)\n",
        "dset_test = CIFAR10(root='.', train=False)"
      ],
      "metadata": {
        "colab": {
          "base_uri": "https://localhost:8080/"
        },
        "id": "8a-cJwdCQayg",
        "outputId": "a8bd1497-0a1d-4040-a830-78abc6325f93"
      },
      "execution_count": 2,
      "outputs": [
        {
          "output_type": "stream",
          "name": "stdout",
          "text": [
            "Downloading https://www.cs.toronto.edu/~kriz/cifar-10-python.tar.gz to ./cifar-10-python.tar.gz\n"
          ]
        },
        {
          "output_type": "stream",
          "name": "stderr",
          "text": [
            "100%|██████████| 170498071/170498071 [00:03<00:00, 43524691.84it/s]\n"
          ]
        },
        {
          "output_type": "stream",
          "name": "stdout",
          "text": [
            "Extracting ./cifar-10-python.tar.gz to .\n"
          ]
        }
      ]
    },
    {
      "cell_type": "markdown",
      "source": [
        "**Data Preprocessing**"
      ],
      "metadata": {
        "id": "fdZLAQjDw1YV"
      }
    },
    {
      "cell_type": "code",
      "source": [
        "start = time.time()\n",
        "x_train = torch.tensor(dset_train.data, dtype=torch.float32).div_(255)\n",
        "y_train = torch.tensor(dset_train.targets, dtype=torch.int64)\n",
        "training_time = time.time()-start\n",
        "print(f\"Training Time Taken: {training_time}\")"
      ],
      "metadata": {
        "colab": {
          "base_uri": "https://localhost:8080/"
        },
        "id": "RqoKt-aFQb4r",
        "outputId": "bfbb2dfa-cff9-4fa9-a67c-bfcfe25a3d32"
      },
      "execution_count": 3,
      "outputs": [
        {
          "output_type": "stream",
          "name": "stdout",
          "text": [
            "Training Time Taken: 0.3683278560638428\n"
          ]
        }
      ]
    },
    {
      "cell_type": "code",
      "source": [
        "x_train = torch.flatten(x_train,start_dim=1) #Flattening the 3 dimension image into a single dimension for easier calculation"
      ],
      "metadata": {
        "id": "v95_kyvvVBgJ"
      },
      "execution_count": 4,
      "outputs": []
    },
    {
      "cell_type": "code",
      "source": [
        "x_test = torch.tensor(dset_test.data, dtype=torch.float32).div_(255)\n",
        "y_test = torch.tensor(dset_test.targets, dtype=torch.int64)"
      ],
      "metadata": {
        "id": "g4r6xm4ZQb72"
      },
      "execution_count": 5,
      "outputs": []
    },
    {
      "cell_type": "code",
      "source": [
        "x_test = torch.flatten(x_test,start_dim=1) #Flattening the 3 dimension image into a single dimension for easier calculation"
      ],
      "metadata": {
        "id": "O-ENzJ_kVF6C"
      },
      "execution_count": 6,
      "outputs": []
    },
    {
      "cell_type": "markdown",
      "source": [
        "**Total Training and Testing Samples**"
      ],
      "metadata": {
        "id": "K26d4biLxXhS"
      }
    },
    {
      "cell_type": "code",
      "source": [
        "print(f\"Total Training Samples: {x_train.shape[0]} \\nTotal Test Samples: {x_test.shape[0]}\")"
      ],
      "metadata": {
        "colab": {
          "base_uri": "https://localhost:8080/"
        },
        "id": "YTxUKWZGhO2f",
        "outputId": "7dc0d234-644e-4ca1-b3cf-8ec1d6d6a721"
      },
      "execution_count": 7,
      "outputs": [
        {
          "output_type": "stream",
          "name": "stdout",
          "text": [
            "Total Training Samples: 50000 \n",
            "Total Test Samples: 10000\n"
          ]
        }
      ]
    },
    {
      "cell_type": "markdown",
      "source": [
        "**L1 - Manhattan Distance**"
      ],
      "metadata": {
        "id": "vWk9NiShxvFk"
      }
    },
    {
      "cell_type": "code",
      "source": [
        "start = time.time()\n",
        "y_pred_L1 = []\n",
        "for x_sample in x_test:\n",
        "  distances = torch.tensor([torch.sum(torch.abs(x_sample - x_train_sample)) for x_train_sample in x_train]) #L1 - Manhattan Distance\n",
        "  values, indices = torch.topk(distances, 3, dim=0, largest=False)\n",
        "  k_nearest_labels = y_train[indices]\n",
        "  y_pred_L1.append(torch.mode(k_nearest_labels).values.item())\n",
        "test_time_L1 = time.time()-start\n",
        "print(f\"Testing Time Taken: {test_time_L1}\")"
      ],
      "metadata": {
        "colab": {
          "base_uri": "https://localhost:8080/"
        },
        "id": "PjaDTChBQb-r",
        "outputId": "d23680a9-1955-4556-8a00-d01ff4a56a78"
      },
      "execution_count": 8,
      "outputs": [
        {
          "output_type": "stream",
          "name": "stdout",
          "text": [
            "Testing Time Taken: 7224.799511909485\n"
          ]
        }
      ]
    },
    {
      "cell_type": "markdown",
      "source": [
        "**Results with L1 - Manhattan Distance**"
      ],
      "metadata": {
        "id": "D3UGp_D8yFVH"
      }
    },
    {
      "cell_type": "markdown",
      "source": [
        "**Time Taken for Training and Test - L1 Manhattan Distance**"
      ],
      "metadata": {
        "id": "EeQMD9hz6Biy"
      }
    },
    {
      "cell_type": "code",
      "source": [
        "print(f\"Training Time Taken - L1 Manhattan Distance : {training_time} secs\")\n",
        "print(f\"Testing Time Taken - L1 Manhattan Distance : {test_time_L1} secs\")"
      ],
      "metadata": {
        "colab": {
          "base_uri": "https://localhost:8080/"
        },
        "id": "T-WK6PnrkhqJ",
        "outputId": "947d4838-02b6-4465-f9ca-94f2d22b3136"
      },
      "execution_count": 20,
      "outputs": [
        {
          "output_type": "stream",
          "name": "stdout",
          "text": [
            "Training Time Taken - L1 Manhattan Distance : 0.3683278560638428 secs\n",
            "Testing Time Taken - L1 Manhattan Distance : 7224.799511909485 secs\n"
          ]
        }
      ]
    },
    {
      "cell_type": "markdown",
      "source": [
        "**Confusion Matrix Function**"
      ],
      "metadata": {
        "id": "7CT8JR7eyw-L"
      }
    },
    {
      "cell_type": "code",
      "source": [
        "def conf_matrix_values(y_test,y_pred,class_value):\n",
        "  TN, FP, FN, TP = 0, 0, 0 , 0\n",
        "  y_test_class=[1 if i==class_value else 0 for i in y_test]\n",
        "  y_pred_class=[1 if i==class_value else 0 for i in y_pred]\n",
        "  for i in range(len(y_test)):\n",
        "    if y_test_class[i] == 0:\n",
        "      if y_pred_class[i] == 0:\n",
        "        TN+=1\n",
        "      else:\n",
        "        FP+=1\n",
        "    if y_test_class[i] == 1:\n",
        "      if y_pred_class[i] == 1:\n",
        "        TP+=1\n",
        "      else:\n",
        "        FN+=1\n",
        "  accuracy = (TP+TN)/(TP+FN+FP+TN)\n",
        "  precision = TP/(TP+FP)\n",
        "  recall = TP/(TP+FN)\n",
        "  #TP, FP, TN, FN\n",
        "  return f\"TP : {TP}, FP : {FP}, TN : {TN}, FN : {FN}\\nAccuracy : {accuracy}\\nPrecision : {precision}\\nRecall : {recall}\""
      ],
      "metadata": {
        "id": "GcfYqYw6QcHS"
      },
      "execution_count": 21,
      "outputs": []
    },
    {
      "cell_type": "markdown",
      "source": [
        "**Confusion Matrix Individual Results for 10 Labels - L1 Manhanttan Distance**"
      ],
      "metadata": {
        "id": "Ghs2puP_y0yF"
      }
    },
    {
      "cell_type": "code",
      "source": [
        "for i in range(10):\n",
        "  print(f\"Class {i+1}: Class-{i+1} Label\")\n",
        "  print(conf_matrix_values(y_test,y_pred_L1,i))\n",
        "  print()"
      ],
      "metadata": {
        "colab": {
          "base_uri": "https://localhost:8080/"
        },
        "id": "Xo2k8Hy3vP_w",
        "outputId": "3f8dc22d-455d-485c-ba39-2e609d62f573"
      },
      "execution_count": 22,
      "outputs": [
        {
          "output_type": "stream",
          "name": "stdout",
          "text": [
            "Class 1: Class-1 Label\n",
            "TP : 617, FP : 1292, TN : 7708, FN : 383\n",
            "Accuracy : 0.8325\n",
            "Precision : 0.32320586694604503\n",
            "Recall : 0.617\n",
            "\n",
            "Class 2: Class-2 Label\n",
            "TP : 313, FP : 247, TN : 8753, FN : 687\n",
            "Accuracy : 0.9066\n",
            "Precision : 0.5589285714285714\n",
            "Recall : 0.313\n",
            "\n",
            "Class 3: Class-3 Label\n",
            "TP : 447, FP : 1629, TN : 7371, FN : 553\n",
            "Accuracy : 0.7818\n",
            "Precision : 0.2153179190751445\n",
            "Recall : 0.447\n",
            "\n",
            "Class 4: Class-4 Label\n",
            "TP : 243, FP : 657, TN : 8343, FN : 757\n",
            "Accuracy : 0.8586\n",
            "Precision : 0.27\n",
            "Recall : 0.243\n",
            "\n",
            "Class 5: Class-5 Label\n",
            "TP : 421, FP : 1170, TN : 7830, FN : 579\n",
            "Accuracy : 0.8251\n",
            "Precision : 0.2646134506599623\n",
            "Recall : 0.421\n",
            "\n",
            "Class 6: Class-6 Label\n",
            "TP : 239, FP : 260, TN : 8740, FN : 761\n",
            "Accuracy : 0.8979\n",
            "Precision : 0.4789579158316633\n",
            "Recall : 0.239\n",
            "\n",
            "Class 7: Class-7 Label\n",
            "TP : 267, FP : 338, TN : 8662, FN : 733\n",
            "Accuracy : 0.8929\n",
            "Precision : 0.4413223140495868\n",
            "Recall : 0.267\n",
            "\n",
            "Class 8: Class-8 Label\n",
            "TP : 259, FP : 80, TN : 8920, FN : 741\n",
            "Accuracy : 0.9179\n",
            "Precision : 0.7640117994100295\n",
            "Recall : 0.259\n",
            "\n",
            "Class 9: Class-9 Label\n",
            "TP : 625, FP : 632, TN : 8368, FN : 375\n",
            "Accuracy : 0.8993\n",
            "Precision : 0.4972155926809865\n",
            "Recall : 0.625\n",
            "\n",
            "Class 10: Class-10 Label\n",
            "TP : 194, FP : 70, TN : 8930, FN : 806\n",
            "Accuracy : 0.9124\n",
            "Precision : 0.7348484848484849\n",
            "Recall : 0.194\n",
            "\n"
          ]
        }
      ]
    },
    {
      "cell_type": "markdown",
      "source": [
        "**L2 - Euclidean Distance**"
      ],
      "metadata": {
        "id": "qoesYGncy_hk"
      }
    },
    {
      "cell_type": "code",
      "source": [
        "start = time.time()\n",
        "y_pred_L2 = []\n",
        "for x_sample in x_test:\n",
        "  distances = torch.tensor([torch.sum(torch.square(x_sample - x_train_sample)) for x_train_sample in x_train]) # L2 - Euclidean Distance\n",
        "  values, indices = torch.topk(distances, 3, dim=0, largest=False)\n",
        "  k_nearest_labels = y_train[indices]\n",
        "  y_pred_L2.append(torch.mode(k_nearest_labels).values.item())\n",
        "test_time_L2 = time.time()-start\n",
        "print(\"Time taken: \",time.time()-start)"
      ],
      "metadata": {
        "colab": {
          "base_uri": "https://localhost:8080/"
        },
        "id": "Q4Xv-LfFvTRm",
        "outputId": "66a25b12-0581-4823-a9af-4925407a23b1"
      },
      "execution_count": 15,
      "outputs": [
        {
          "output_type": "stream",
          "name": "stdout",
          "text": [
            "Time taken:  6964.93036198616\n"
          ]
        }
      ]
    },
    {
      "cell_type": "markdown",
      "source": [
        "**Results with L2 - Euclidean Distance**"
      ],
      "metadata": {
        "id": "kxUML6wQzVm_"
      }
    },
    {
      "cell_type": "markdown",
      "source": [
        "**Time Taken for Training and Test - L2 Euclidean Distance**"
      ],
      "metadata": {
        "id": "13XLxWTU6Izx"
      }
    },
    {
      "cell_type": "code",
      "source": [
        "print(f\"Training Time Taken - L2 Euclidean Distance : {training_time} secs\")\n",
        "print(f\"Testing Time Taken - L2 Euclidean Distance : {test_time_L2} secs\")"
      ],
      "metadata": {
        "colab": {
          "base_uri": "https://localhost:8080/"
        },
        "id": "IyFRb0Tn5czB",
        "outputId": "98c04a46-8a96-4e89-ca92-d811e2a3a10d"
      },
      "execution_count": 18,
      "outputs": [
        {
          "output_type": "stream",
          "name": "stdout",
          "text": [
            "Training Time Taken - L2 Euclidean Distance : 0.3683278560638428 secs\n",
            "Testing Time Taken - L2 Euclidean Distance : 6964.9303114414215 secs\n"
          ]
        }
      ]
    },
    {
      "cell_type": "markdown",
      "source": [
        "**Confusion Matrix Individual Results for 10 Labels - L2 Euclidean Distance**"
      ],
      "metadata": {
        "id": "thFp8G_nzm-K"
      }
    },
    {
      "cell_type": "code",
      "source": [
        "for i in range(10):\n",
        "  print(f\"Class {i+1}: Class-{i+1} Label\")\n",
        "  print(conf_matrix_values(y_test,y_pred_L2,i))\n",
        "  print()"
      ],
      "metadata": {
        "colab": {
          "base_uri": "https://localhost:8080/"
        },
        "id": "dz7n78eQvTXq",
        "outputId": "206d191d-ef9f-4b15-ee01-b6df7b1c6489"
      },
      "execution_count": 19,
      "outputs": [
        {
          "output_type": "stream",
          "name": "stdout",
          "text": [
            "Class 1: Class-1 Label\n",
            "TP : 573, FP : 1214, TN : 7786, FN : 427\n",
            "Accuracy : 0.8359\n",
            "Precision : 0.32064913262451034\n",
            "Recall : 0.573\n",
            "\n",
            "Class 2: Class-2 Label\n",
            "TP : 243, FP : 179, TN : 8821, FN : 757\n",
            "Accuracy : 0.9064\n",
            "Precision : 0.5758293838862559\n",
            "Recall : 0.243\n",
            "\n",
            "Class 3: Class-3 Label\n",
            "TP : 450, FP : 1779, TN : 7221, FN : 550\n",
            "Accuracy : 0.7671\n",
            "Precision : 0.2018842530282638\n",
            "Recall : 0.45\n",
            "\n",
            "Class 4: Class-4 Label\n",
            "TP : 225, FP : 641, TN : 8359, FN : 775\n",
            "Accuracy : 0.8584\n",
            "Precision : 0.25981524249422633\n",
            "Recall : 0.225\n",
            "\n",
            "Class 5: Class-5 Label\n",
            "TP : 436, FP : 1297, TN : 7703, FN : 564\n",
            "Accuracy : 0.8139\n",
            "Precision : 0.2515868436237738\n",
            "Recall : 0.436\n",
            "\n",
            "Class 6: Class-6 Label\n",
            "TP : 213, FP : 283, TN : 8717, FN : 787\n",
            "Accuracy : 0.893\n",
            "Precision : 0.42943548387096775\n",
            "Recall : 0.213\n",
            "\n",
            "Class 7: Class-7 Label\n",
            "TP : 229, FP : 404, TN : 8596, FN : 771\n",
            "Accuracy : 0.8825\n",
            "Precision : 0.3617693522906793\n",
            "Recall : 0.229\n",
            "\n",
            "Class 8: Class-8 Label\n",
            "TP : 199, FP : 73, TN : 8927, FN : 801\n",
            "Accuracy : 0.9126\n",
            "Precision : 0.7316176470588235\n",
            "Recall : 0.199\n",
            "\n",
            "Class 9: Class-9 Label\n",
            "TP : 612, FP : 782, TN : 8218, FN : 388\n",
            "Accuracy : 0.883\n",
            "Precision : 0.43902439024390244\n",
            "Recall : 0.612\n",
            "\n",
            "Class 10: Class-10 Label\n",
            "TP : 123, FP : 45, TN : 8955, FN : 877\n",
            "Accuracy : 0.9078\n",
            "Precision : 0.7321428571428571\n",
            "Recall : 0.123\n",
            "\n"
          ]
        }
      ]
    },
    {
      "cell_type": "code",
      "source": [],
      "metadata": {
        "id": "KnURLM2nWEq4"
      },
      "execution_count": null,
      "outputs": []
    },
    {
      "cell_type": "code",
      "source": [],
      "metadata": {
        "id": "kNt9xEGWWEtp"
      },
      "execution_count": null,
      "outputs": []
    },
    {
      "cell_type": "code",
      "source": [],
      "metadata": {
        "id": "Ue9rxExqWE01"
      },
      "execution_count": null,
      "outputs": []
    },
    {
      "cell_type": "code",
      "source": [],
      "metadata": {
        "id": "EFUfLHlhWE3h"
      },
      "execution_count": null,
      "outputs": []
    }
  ]
}